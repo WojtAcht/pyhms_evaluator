{
 "cells": [
  {
   "cell_type": "code",
   "execution_count": null,
   "metadata": {},
   "outputs": [],
   "source": [
    "import pandas as pd\n",
    "\n",
    "df = pd.read_csv(\"results_hms_with_warm_start.csv\", index_col=0)\n",
    "pivot_df = df.pivot(\n",
    "    index=\"problem_id\", columns=\"solver\", values=[\"fitness_mean\", \"fitness_std\"]\n",
    ")\n",
    "pivot_df.columns = [f\"{solver}_{val_type}\" for val_type, solver in pivot_df.columns]\n",
    "pivot_df = pivot_df.reset_index()\n",
    "styled_df = pivot_df.style.background_gradient(\n",
    "    cmap=\"coolwarm_r\",\n",
    "    subset=[col for col in pivot_df.columns if \"fitness_mean\" in col],\n",
    "    axis=1,\n",
    ").background_gradient(\n",
    "    cmap=\"coolwarm_r\",\n",
    "    subset=[col for col in pivot_df.columns if \"fitness_std\" in col],\n",
    "    axis=1,\n",
    ")\n",
    "styled_df"
   ]
  },
  {
   "cell_type": "code",
   "execution_count": null,
   "metadata": {},
   "outputs": [],
   "source": [
    "pivot_df[\"HMSSolver_fitness_mean\"]"
   ]
  }
 ],
 "metadata": {
  "kernelspec": {
   "display_name": ".venv",
   "language": "python",
   "name": "python3"
  },
  "language_info": {
   "codemirror_mode": {
    "name": "ipython",
    "version": 3
   },
   "file_extension": ".py",
   "mimetype": "text/x-python",
   "name": "python",
   "nbconvert_exporter": "python",
   "pygments_lexer": "ipython3"
  }
 },
 "nbformat": 4,
 "nbformat_minor": 2
}
